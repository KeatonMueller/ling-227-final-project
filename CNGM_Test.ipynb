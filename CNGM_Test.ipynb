{
 "cells": [
  {
   "cell_type": "code",
   "execution_count": 1,
   "metadata": {},
   "outputs": [],
   "source": [
    "from models.character_ngram_svm import CNGM"
   ]
  },
  {
   "cell_type": "code",
   "execution_count": 2,
   "metadata": {},
   "outputs": [],
   "source": [
    "with open('texts/Dryden/Dryden_train1.txt') as text: d = text.read()"
   ]
  },
  {
   "cell_type": "code",
   "execution_count": 3,
   "metadata": {},
   "outputs": [],
   "source": [
    "with open('texts/Pope/Pope_train1.txt') as text: p = text.read()"
   ]
  },
  {
   "cell_type": "code",
   "execution_count": 4,
   "metadata": {},
   "outputs": [],
   "source": [
    "with open('texts/Chapman/Chapman_train1.txt', encoding='UTF-8') as text: c = text.read()\n",
    "with open('texts/Chapman/Chapman_train2.txt', encoding='UTF-8') as text: c += text.read()\n",
    "with open('texts/Chapman/Chapman_train3.txt', encoding='UTF-8') as text: c += text.read()\n",
    "with open('texts/Chapman/Chapman_train4.txt', encoding='UTF-8') as text: c += text.read()"
   ]
  },
  {
   "cell_type": "code",
   "execution_count": 5,
   "metadata": {},
   "outputs": [],
   "source": [
    "dtr = d[:70000]\n",
    "ptr = p[:70000]\n",
    "ctr = c[:70000]\n",
    "\n",
    "dte = d[70000:]\n",
    "pte = p[70000:]\n",
    "cte = c[70000:]"
   ]
  },
  {
   "cell_type": "code",
   "execution_count": 6,
   "metadata": {},
   "outputs": [],
   "source": [
    "m = CNGM(extended_alphabet=True)"
   ]
  },
  {
   "cell_type": "code",
   "execution_count": 7,
   "metadata": {},
   "outputs": [],
   "source": [
    "m.train({'p':[ptr], 'c':[ctr], 'd':[dtr]})"
   ]
  },
  {
   "cell_type": "code",
   "execution_count": 8,
   "metadata": {},
   "outputs": [
    {
     "data": {
      "text/plain": [
       "[(0.6636934674053764, 'p'),\n",
       " (0.2632791407573352, 'c'),\n",
       " (0.07302739183728842, 'd')]"
      ]
     },
     "execution_count": 8,
     "metadata": {},
     "output_type": "execute_result"
    }
   ],
   "source": [
    "m.identify(pte)"
   ]
  },
  {
   "cell_type": "code",
   "execution_count": 9,
   "metadata": {},
   "outputs": [
    {
     "data": {
      "text/plain": [
       "[(0.7496950763141077, 'c'),\n",
       " (0.14791814301898315, 'd'),\n",
       " (0.1023867806669092, 'p')]"
      ]
     },
     "execution_count": 9,
     "metadata": {},
     "output_type": "execute_result"
    }
   ],
   "source": [
    "m.identify(cte)"
   ]
  },
  {
   "cell_type": "code",
   "execution_count": 10,
   "metadata": {},
   "outputs": [
    {
     "data": {
      "text/plain": [
       "[(0.8804230226861917, 'd'),\n",
       " (0.07753093833233678, 'c'),\n",
       " (0.04204603898147143, 'p')]"
      ]
     },
     "execution_count": 10,
     "metadata": {},
     "output_type": "execute_result"
    }
   ],
   "source": [
    "m.identify(dte)"
   ]
  },
  {
   "cell_type": "code",
   "execution_count": null,
   "metadata": {},
   "outputs": [],
   "source": []
  }
 ],
 "metadata": {
  "kernelspec": {
   "display_name": "Python 3",
   "language": "python",
   "name": "python3"
  },
  "language_info": {
   "codemirror_mode": {
    "name": "ipython",
    "version": 3
   },
   "file_extension": ".py",
   "mimetype": "text/x-python",
   "name": "python",
   "nbconvert_exporter": "python",
   "pygments_lexer": "ipython3",
   "version": "3.8.3"
  }
 },
 "nbformat": 4,
 "nbformat_minor": 4
}
