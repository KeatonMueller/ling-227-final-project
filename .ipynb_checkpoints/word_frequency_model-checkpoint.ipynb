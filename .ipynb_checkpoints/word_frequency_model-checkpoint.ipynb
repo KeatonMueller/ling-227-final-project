{
 "cells": [
  {
   "cell_type": "code",
   "execution_count": 1,
   "metadata": {},
   "outputs": [],
   "source": [
    "from models.abstract_model import AbstractModel\n",
    "import re\n",
    "import string\n",
    "import pandas as pd\n",
    "import numpy as np\n",
    "\n",
    "from nltk import FreqDist\n",
    "from nltk.stem import WordNetLemmatizer"
   ]
  },
  {
   "cell_type": "code",
   "execution_count": 2,
   "metadata": {},
   "outputs": [],
   "source": [
    "### Preprocessing: accept string text, return a list of word stems\n",
    "def _preprocess(text):\n",
    "    text = re.sub('\\s', ' ', text)\n",
    "    text = text.lower()\n",
    "    text = text.encode('ascii', 'ignore').decode()\n",
    "    temp = [c for c in text if c not in string.punctuation]\n",
    "    text_clean = ''.join(temp)\n",
    "    \n",
    "    li = text_clean.split(' ')\n",
    "    lemm = WordNetLemmatizer()\n",
    "    wdlist = [lemm.lemmatize(wd, pos=\"v\") for wd in li]\n",
    "    \n",
    "    return wdlist"
   ]
  },
  {
   "cell_type": "code",
   "execution_count": 3,
   "metadata": {},
   "outputs": [],
   "source": [
    "### Take author and input text, return df (Series) of profiles\n",
    "def _makeProfile(self, auth, text):\n",
    "    wdlist = _preprocess(text)\n",
    "\n",
    "    totalvocab = len(wdlist)\n",
    "\n",
    "    fd = FreqDist(wdlist)\n",
    "    commonwords = dict(fd.most_common(self.topN))\n",
    "    df = pd.DataFrame.from_dict(commonwords, orient='index', columns=[auth])\n",
    "    df = df/totalvocab #normalize\n",
    "    df = df.transpose()\n",
    "    \n",
    "    return df"
   ]
  },
  {
   "cell_type": "code",
   "execution_count": 4,
   "metadata": {},
   "outputs": [],
   "source": [
    "### Convert text to features\n",
    "def _makeFeatureMatrix(self, training_data):\n",
    "    \n",
    "    featdf = pd.DataFrame()\n",
    "    \n",
    "    for auth in training_data:\n",
    "        text = training_data[auth]\n",
    "        \n",
    "        df = _makeProfile(self, auth, text)\n",
    "        \n",
    "        featdf = featdf.append(df) #, ignore_index=True)\n",
    "\n",
    "    featdf.fillna(0, inplace=True)\n",
    "        \n",
    "    #print(featdf)\n",
    "    return featdf"
   ]
  },
  {
   "cell_type": "code",
   "execution_count": 5,
   "metadata": {},
   "outputs": [],
   "source": [
    "## Measures the similarity between two profiles by the angle formed between them ##\n",
    "def _cosSimilarity(p1, p2):\n",
    "    return (p1 @ p2) / (np.linalg.norm(p1) * np.linalg.norm(p2))"
   ]
  },
  {
   "cell_type": "code",
   "execution_count": 6,
   "metadata": {},
   "outputs": [],
   "source": [
    "def train(self, training_data, topN=100):\n",
    "    ##TODO: call _makeFeatureMatrix and convert to desired data structure of o/p profiles\n",
    "    \n",
    "    self.topN = topN\n",
    "    \n",
    "    traindict = {}\n",
    "    for auth in training_data:\n",
    "        corpus = ''\n",
    "        for text in training_data[auth]:\n",
    "            corpus = corpus+text+' '\n",
    "        traindict[auth] = corpus\n",
    "    \n",
    "    featmatrix = _makeFeatureMatrix(self, traindict)\n",
    "    \n",
    "    self.profiledf = featmatrix"
   ]
  },
  {
   "cell_type": "code",
   "execution_count": 7,
   "metadata": {},
   "outputs": [],
   "source": [
    "def identify(self, text):\n",
    "    \n",
    "    testdf = _createTest(self, text)\n",
    "    authors = self.profiledf.index.tolist()\n",
    "    \n",
    "    M = len(self.profiledf)\n",
    "    clist = []\n",
    "    for i in range(M):\n",
    "        clist.append(cosSimilarity(self.profiledf.iloc[i], testdf.iloc[0]))\n",
    "    \n",
    "    probdict = {}\n",
    "    for i in range(M):\n",
    "        probdict[authors[i]] = clist[i]/sum(clist)\n",
    "        \n",
    "    idlist = sorted([(clist[i]/sum(clist), authors[i]) for i in range(M)], reverse=True)\n",
    "        \n",
    "    return idlist\n",
    "    "
   ]
  },
  {
   "cell_type": "code",
   "execution_count": 8,
   "metadata": {},
   "outputs": [],
   "source": [
    "def _createTest(self, text):\n",
    "    \n",
    "    featmatrix = self.profiledf\n",
    "    \n",
    "    pr = _makeProfile(self, 'Test', text)\n",
    "    \n",
    "    testdf = featmatrix.append(pr)\n",
    "    testdf.fillna(0, inplace=True)\n",
    "\n",
    "    col_list = featmatrix.columns.tolist()\n",
    "    testdf = testdf.iloc[-1]\n",
    "    \n",
    "    return testdf[col_list]"
   ]
  },
  {
   "cell_type": "markdown",
   "metadata": {},
   "source": [
    "### Testing class"
   ]
  },
  {
   "cell_type": "code",
   "execution_count": 9,
   "metadata": {},
   "outputs": [],
   "source": [
    "from models.word_frequency_model import BOW\n"
   ]
  },
  {
   "cell_type": "code",
   "execution_count": 12,
   "metadata": {},
   "outputs": [],
   "source": [
    "### Read training data - V BRUTE FORCE\n",
    "\n",
    "path = r'C:\\Users\\shala\\classify3\\ling-227-final-project\\texts'\n",
    "traindict = {'Alexander Pope':[r'\\Pope\\Pope_train1.txt'],\n",
    "            'John Dryden': [r'\\Dryden\\Dryden_train1.txt'],\n",
    "            'George Chapman':[r'\\Chapman\\Chapman_train1.txt',\n",
    "                             r'\\Chapman\\Chapman_train2.txt', r'\\Chapman\\Chapman_train4.txt']}\n",
    "\n",
    "training_data = {'Alexander Pope':[], 'John Dryden':[], 'George Chapman':[]}\n",
    "\n",
    "for auth in traindict:\n",
    "    flist = traindict[auth]\n",
    "    #clist = []\n",
    "    content = ''\n",
    "    for fi in flist:\n",
    "        txtfile = path+fi\n",
    "        with open(txtfile, 'r', encoding='utf-8') as f:\n",
    "            ogtext = f.read()\n",
    "            training_data[auth].append(ogtext)\n",
    "            #clist.append(ogtext)\n",
    "            #content = content+ogtext+' '\n",
    "    #filedict[auth] = content"
   ]
  },
  {
   "cell_type": "code",
   "execution_count": 13,
   "metadata": {},
   "outputs": [
    {
     "data": {
      "text/html": [
       "<div>\n",
       "<style scoped>\n",
       "    .dataframe tbody tr th:only-of-type {\n",
       "        vertical-align: middle;\n",
       "    }\n",
       "\n",
       "    .dataframe tbody tr th {\n",
       "        vertical-align: top;\n",
       "    }\n",
       "\n",
       "    .dataframe thead th {\n",
       "        text-align: right;\n",
       "    }\n",
       "</style>\n",
       "<table border=\"1\" class=\"dataframe\">\n",
       "  <thead>\n",
       "    <tr style=\"text-align: right;\">\n",
       "      <th></th>\n",
       "      <th>the</th>\n",
       "      <th>and</th>\n",
       "      <th>to</th>\n",
       "      <th>a</th>\n",
       "      <th>of</th>\n",
       "      <th>in</th>\n",
       "      <th>be</th>\n",
       "      <th>or</th>\n",
       "      <th>with</th>\n",
       "      <th>all</th>\n",
       "      <th></th>\n",
       "      <th>his</th>\n",
       "      <th>their</th>\n",
       "      <th>that</th>\n",
       "    </tr>\n",
       "  </thead>\n",
       "  <tbody>\n",
       "    <tr>\n",
       "      <th>Alexander Pope</th>\n",
       "      <td>0.054000</td>\n",
       "      <td>0.039688</td>\n",
       "      <td>0.022380</td>\n",
       "      <td>0.017910</td>\n",
       "      <td>0.016631</td>\n",
       "      <td>0.016555</td>\n",
       "      <td>0.016269</td>\n",
       "      <td>0.01055</td>\n",
       "      <td>0.009361</td>\n",
       "      <td>0.008654</td>\n",
       "      <td>0.000000</td>\n",
       "      <td>0.000000</td>\n",
       "      <td>0.000000</td>\n",
       "      <td>0.000000</td>\n",
       "    </tr>\n",
       "    <tr>\n",
       "      <th>John Dryden</th>\n",
       "      <td>0.040572</td>\n",
       "      <td>0.027334</td>\n",
       "      <td>0.020733</td>\n",
       "      <td>0.011541</td>\n",
       "      <td>0.015197</td>\n",
       "      <td>0.011163</td>\n",
       "      <td>0.017558</td>\n",
       "      <td>0.00000</td>\n",
       "      <td>0.000000</td>\n",
       "      <td>0.000000</td>\n",
       "      <td>0.201105</td>\n",
       "      <td>0.012997</td>\n",
       "      <td>0.008894</td>\n",
       "      <td>0.000000</td>\n",
       "    </tr>\n",
       "    <tr>\n",
       "      <th>George Chapman</th>\n",
       "      <td>0.042241</td>\n",
       "      <td>0.038734</td>\n",
       "      <td>0.024149</td>\n",
       "      <td>0.000000</td>\n",
       "      <td>0.022555</td>\n",
       "      <td>0.022157</td>\n",
       "      <td>0.017295</td>\n",
       "      <td>0.00000</td>\n",
       "      <td>0.013071</td>\n",
       "      <td>0.014824</td>\n",
       "      <td>0.000000</td>\n",
       "      <td>0.022954</td>\n",
       "      <td>0.000000</td>\n",
       "      <td>0.012593</td>\n",
       "    </tr>\n",
       "  </tbody>\n",
       "</table>\n",
       "</div>"
      ],
      "text/plain": [
       "                     the       and        to         a        of        in  \\\n",
       "Alexander Pope  0.054000  0.039688  0.022380  0.017910  0.016631  0.016555   \n",
       "John Dryden     0.040572  0.027334  0.020733  0.011541  0.015197  0.011163   \n",
       "George Chapman  0.042241  0.038734  0.024149  0.000000  0.022555  0.022157   \n",
       "\n",
       "                      be       or      with       all                 his  \\\n",
       "Alexander Pope  0.016269  0.01055  0.009361  0.008654  0.000000  0.000000   \n",
       "John Dryden     0.017558  0.00000  0.000000  0.000000  0.201105  0.012997   \n",
       "George Chapman  0.017295  0.00000  0.013071  0.014824  0.000000  0.022954   \n",
       "\n",
       "                   their      that  \n",
       "Alexander Pope  0.000000  0.000000  \n",
       "John Dryden     0.008894  0.000000  \n",
       "George Chapman  0.000000  0.012593  "
      ]
     },
     "execution_count": 13,
     "metadata": {},
     "output_type": "execute_result"
    }
   ],
   "source": [
    "model = BOW(10)\n",
    "\n",
    "model.train(training_data) \n",
    "model.profiledf"
   ]
  },
  {
   "cell_type": "code",
   "execution_count": 14,
   "metadata": {},
   "outputs": [
    {
     "data": {
      "text/plain": [
       "3"
      ]
     },
     "execution_count": 14,
     "metadata": {},
     "output_type": "execute_result"
    }
   ],
   "source": [
    "len(model.profiledf)"
   ]
  },
  {
   "cell_type": "code",
   "execution_count": 15,
   "metadata": {},
   "outputs": [],
   "source": [
    "testdict = {'Alexander Pope':[r'\\Pope\\Pope_iliad.txt'], \n",
    "            'John Dryden':[r'\\Dryden\\Dryden_iliad_1_p6.txt'],\n",
    "            'George Chapman':[r'\\Chapman\\Chapman_iliad.txt']\n",
    "           }\n",
    "\n",
    "\n",
    "for auth in testdict:\n",
    "    flist = testdict[auth]\n",
    "    #clist = []\n",
    "    content = ''\n",
    "    for fi in flist:\n",
    "        txtfile = path+fi\n",
    "        with open(txtfile, 'r', encoding='utf-8') as f:\n",
    "            content = f.read()\n",
    "    testdict[auth] = content"
   ]
  },
  {
   "cell_type": "code",
   "execution_count": 18,
   "metadata": {},
   "outputs": [],
   "source": [
    "pr = model.profiledf\n",
    "pr.iloc[1]\n",
    "testser = model._createTest(text)"
   ]
  },
  {
   "cell_type": "code",
   "execution_count": 19,
   "metadata": {},
   "outputs": [
    {
     "data": {
      "text/plain": [
       "0.9302227610164926"
      ]
     },
     "execution_count": 19,
     "metadata": {},
     "output_type": "execute_result"
    }
   ],
   "source": [
    "p1 = pr.iloc[0]\n",
    "p2 = testser\n",
    "model._cosSimilarity(p1, p2)"
   ]
  },
  {
   "cell_type": "code",
   "execution_count": 20,
   "metadata": {},
   "outputs": [],
   "source": [
    "devdict = {'Alexander Pope':[r'\\Pope\\Pope_train2.txt'],\n",
    "            'John Dryden': [r'\\Dryden\\Dryden_train2.txt'],\n",
    "            'George Chapman':[r'\\Chapman\\Chapman_train1.txt']}\n",
    "\n",
    "for auth in devdict:\n",
    "    flist = devdict[auth]\n",
    "    #clist = []\n",
    "    content = ''\n",
    "    for fi in flist:\n",
    "        txtfile = path+fi\n",
    "        with open(txtfile, 'r', encoding='utf-8') as f:\n",
    "            content = f.read()\n",
    "    devdict[auth] = content"
   ]
  },
  {
   "cell_type": "code",
   "execution_count": 21,
   "metadata": {},
   "outputs": [
    {
     "data": {
      "text/plain": [
       "[(0.4748082194950922, 'Alexander Pope'),\n",
       " (0.42459021211535986, 'George Chapman'),\n",
       " (0.10060156838954784, 'John Dryden')]"
      ]
     },
     "execution_count": 21,
     "metadata": {},
     "output_type": "execute_result"
    }
   ],
   "source": [
    "text = devdict['Alexander Pope']\n",
    "model.identify(text)"
   ]
  },
  {
   "cell_type": "code",
   "execution_count": 22,
   "metadata": {},
   "outputs": [],
   "source": [
    "xrange = range(10, 1000, 100)\n",
    "yyval = {'Alexander Pope':[],\n",
    "            'John Dryden': [],\n",
    "            'George Chapman':[]}\n",
    "\n",
    "yval = []\n",
    "auth = 'Alexander Pope'\n",
    "text = devdict[auth]\n",
    "\n",
    "for topN in xrange:\n",
    "    model = BOW(topN)\n",
    "    model.train(training_data) \n",
    "    id = model.identify(text)\n",
    "    for (p, a) in id:\n",
    "        yyval[a].append(p)"
   ]
  },
  {
   "cell_type": "code",
   "execution_count": 23,
   "metadata": {},
   "outputs": [],
   "source": [
    "import matplotlib.pylab as plt\n",
    "import pandas as pd"
   ]
  },
  {
   "cell_type": "code",
   "execution_count": 24,
   "metadata": {},
   "outputs": [
    {
     "data": {
      "image/png": "[encoded data removed]",
      "text/plain": [
       "<Figure size 432x288 with 1 Axes>"
      ]
     },
     "metadata": {
      "needs_background": "light"
     },
     "output_type": "display_data"
    }
   ],
   "source": [
    "col = {'Alexander Pope':'r',\n",
    "            'John Dryden': 'b',\n",
    "            'George Chapman':'g'}\n",
    "\n",
    "for auth in yyval:\n",
    "    plt.plot(xrange, yyval[auth], col[auth])\n",
    "\n",
    "\n",
    "plt.show()"
   ]
  },
  {
   "cell_type": "code",
   "execution_count": 25,
   "metadata": {},
   "outputs": [
    {
     "data": {
      "image/png": "[encoded data removed]",
      "text/plain": [
       "<Figure size 432x288 with 1 Axes>"
      ]
     },
     "metadata": {
      "needs_background": "light"
     },
     "output_type": "display_data"
    }
   ],
   "source": [
    "ydf = pd.DataFrame(yyval, index=xrange)\n",
    "ax = ydf.plot(title='Probability for %s' %auth)\n",
    "ax.set_xlabel('top N')\n",
    "ax.set_ylabel('Attribution probability')\n",
    "plt.show()"
   ]
  },
  {
   "cell_type": "code",
   "execution_count": null,
   "metadata": {},
   "outputs": [],
   "source": [
    "##observation: Chapman train1 is critical to training (improves probabilities)\n",
    "##Next steps: tf-idf embedding, word2vec"
   ]
  }
 ],
 "metadata": {
  "kernelspec": {
   "display_name": "Python 3",
   "language": "python",
   "name": "python3"
  },
  "language_info": {
   "codemirror_mode": {
    "name": "ipython",
    "version": 3
   },
   "file_extension": ".py",
   "mimetype": "text/x-python",
   "name": "python",
   "nbconvert_exporter": "python",
   "pygments_lexer": "ipython3",
   "version": "3.8.3"
  }
 },
 "nbformat": 4,
 "nbformat_minor": 4
}
