{
 "cells": [
  {
   "cell_type": "code",
   "execution_count": null,
   "id": "another-chile",
   "metadata": {},
   "outputs": [],
   "source": [
    "from models.ensemble_model import Ensemble\n",
    "from utils.data_reader import read_data\n",
    "\n",
    "# initialize ensemble model\n",
    "model = Ensemble()\n",
    "\n",
    "# read in the data\n",
    "data = read_data()\n",
    "# training data is everything but the iliad\n",
    "# NOTE: should almost certainly change this, this is just to get us started\n",
    "training_data = { auth: texts[1:] for auth, texts in data.items() }\n",
    "\n",
    "# NOTE: currently crashes since models are incomplete\n",
    "model.train(training_data)\n"
   ]
  }
 ],
 "metadata": {
  "kernelspec": {
   "display_name": "Python 3",
   "language": "python",
   "name": "python3"
  },
  "language_info": {
   "codemirror_mode": {
    "name": "ipython",
    "version": 3
   },
   "file_extension": ".py",
   "mimetype": "text/x-python",
   "name": "python",
   "nbconvert_exporter": "python",
   "pygments_lexer": "ipython3",
   "version": "3.9.1"
  }
 },
 "nbformat": 4,
 "nbformat_minor": 5
}
