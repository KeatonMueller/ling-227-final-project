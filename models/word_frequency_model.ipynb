{
 "cells": [
  {
   "cell_type": "code",
   "execution_count": null,
   "metadata": {},
   "outputs": [],
   "source": [
    "from abstract_model import AbstractModel\n",
    "import re\n",
    "import string\n",
    "import pandas as pd\n",
    "import numpy as np\n",
    "\n",
    "from nltk import FreqDist\n",
    "from nltk.stem import WordNetLemmatizer"
   ]
  },
  {
   "cell_type": "code",
   "execution_count": null,
   "metadata": {},
   "outputs": [],
   "source": [
    "### Preprocessing: accept string text, return a list of word stems\n",
    "def _preprocess(text):\n",
    "    text = re.sub('\\s', ' ', text)\n",
    "    text = text.lower()\n",
    "    text = text.encode('ascii', 'ignore').decode()\n",
    "    temp = [c for c in text if c not in string.punctuation]\n",
    "    text_clean = ''.join(temp)\n",
    "    \n",
    "    li = text_clean.split(' ')\n",
    "    lemm = WordNetLemmatizer()\n",
    "    wdlist = [lemm.lemmatize(wd, pos=\"v\") for wd in li]\n",
    "    \n",
    "    return wdlist"
   ]
  },
  {
   "cell_type": "code",
   "execution_count": null,
   "metadata": {},
   "outputs": [],
   "source": [
    "### Take author and input text, return df (Series) of profiles\n",
    "def _makeProfile(self, auth, text):\n",
    "    wdlist = _preprocess(text)\n",
    "\n",
    "    totalvocab = len(wdlist)\n",
    "\n",
    "    fd = FreqDist(wdlist)\n",
    "    commonwords = dict(fd.most_common(self.topN))\n",
    "    df = pd.DataFrame.from_dict(commonwords, orient='index', columns=[auth])\n",
    "    df = df/totalvocab #normalize\n",
    "    df = df.transpose()\n",
    "    \n",
    "    return df"
   ]
  },
  {
   "cell_type": "code",
   "execution_count": null,
   "metadata": {},
   "outputs": [],
   "source": [
    "### Convert text to features\n",
    "def _makeFeatureMatrix(self, training_data):\n",
    "    \n",
    "    featdf = pd.DataFrame()\n",
    "    \n",
    "    for auth in training_data:\n",
    "        text = training_data[auth]\n",
    "        \n",
    "        df = _makeProfile(self, auth, text)\n",
    "        \n",
    "        featdf = featdf.append(df) #, ignore_index=True)\n",
    "\n",
    "    featdf.fillna(0, inplace=True)\n",
    "        \n",
    "    #print(featdf)\n",
    "    return featdf"
   ]
  },
  {
   "cell_type": "code",
   "execution_count": null,
   "metadata": {},
   "outputs": [],
   "source": [
    "## Measures the similarity between two profiles by the angle formed between them ##\n",
    "def _cosSimilarity(p1, p2):\n",
    "    return (p1 @ p2) / (np.linalg.norm(p1) * np.linalg.norm(p2))"
   ]
  },
  {
   "cell_type": "code",
   "execution_count": null,
   "metadata": {},
   "outputs": [],
   "source": [
    "def train(self, training_data, topN=100):\n",
    "    ##TODO: call _makeFeatureMatrix and convert to desired data structure of o/p profiles\n",
    "    \n",
    "    self.topN = topN\n",
    "    \n",
    "    traindict = {}\n",
    "    for auth in training_data:\n",
    "        corpus = ''\n",
    "        for text in training_data[auth]:\n",
    "            corpus = corpus+text+' '\n",
    "        traindict[auth] = corpus\n",
    "    \n",
    "    featmatrix = _makeFeatureMatrix(self, traindict)\n",
    "    \n",
    "    self.profiledf = featmatrix"
   ]
  },
  {
   "cell_type": "code",
   "execution_count": null,
   "metadata": {},
   "outputs": [],
   "source": [
    "def identify(self, text):\n",
    "    \n",
    "    testdf = _createTest(self, text)\n",
    "    authors = self.profiledf.index.tolist()\n",
    "    \n",
    "    M = len(self.profiledf)\n",
    "    clist = []\n",
    "    for i in range(M):\n",
    "        clist.append(cosSimilarity(self.profiledf.iloc[i], testdf.iloc[0]))\n",
    "    \n",
    "    probdict = {}\n",
    "    for i in range(M):\n",
    "        probdict[authors[i]] = clist[i]/sum(clist)\n",
    "        \n",
    "    idlist = sorted([(clist[i]/sum(clist), authors[i]) for i in range(M)], reverse=True)\n",
    "        \n",
    "    return idlist\n",
    "    "
   ]
  },
  {
   "cell_type": "code",
   "execution_count": null,
   "metadata": {},
   "outputs": [],
   "source": [
    "def _createTest(self, text):\n",
    "    \n",
    "    featmatrix = self.profiledf\n",
    "    \n",
    "    pr = _makeProfile(self, 'Test', text)\n",
    "    \n",
    "    testdf = featmatrix.append(pr)\n",
    "    testdf.fillna(0, inplace=True)\n",
    "\n",
    "    col_list = featmatrix.columns.tolist()\n",
    "    testdf = testdf.iloc[-1]\n",
    "    \n",
    "    return testdf[col_list]"
   ]
  },
  {
   "cell_type": "code",
   "execution_count": 1,
   "metadata": {},
   "outputs": [],
   "source": [
    "from word_frequency_model import BOW\n"
   ]
  },
  {
   "cell_type": "code",
   "execution_count": 2,
   "metadata": {},
   "outputs": [],
   "source": [
    "### Read training data - V BRUTE FORCE\n",
    "\n",
    "path = r'C:\\Users\\shala\\classify3\\ling-227-final-project\\texts'\n",
    "filedict = {'Alexander Pope':[r'\\Pope\\Pope_train1.txt', r'\\Pope\\Pope_train2.txt'],\n",
    "            'John Dryden': [r'\\Dryden\\Dryden_train1.txt', r'\\Dryden\\Dryden_train2.txt'],\n",
    "            'George Chapman':[r'\\Chapman\\Chapman_train1.txt', r'\\Chapman\\Chapman_train2.txt',\n",
    "                             r'\\Chapman\\Chapman_train3.txt', r'\\Chapman\\Chapman_train4.txt']}\n",
    "\n",
    "training_data = {'Alexander Pope':[], 'John Dryden':[], 'George Chapman':[]}\n",
    "\n",
    "for auth in filedict:\n",
    "    flist = filedict[auth]\n",
    "    #clist = []\n",
    "    content = ''\n",
    "    for fi in flist:\n",
    "        txtfile = path+fi\n",
    "        with open(txtfile, 'r', encoding='utf-8') as f:\n",
    "            ogtext = f.read()\n",
    "            training_data[auth].append(ogtext)\n",
    "            #clist.append(ogtext)\n",
    "            #content = content+ogtext+' '\n",
    "    #filedict[auth] = content"
   ]
  },
  {
   "cell_type": "code",
   "execution_count": 9,
   "metadata": {},
   "outputs": [
    {
     "data": {
      "text/html": [
       "<div>\n",
       "<style scoped>\n",
       "    .dataframe tbody tr th:only-of-type {\n",
       "        vertical-align: middle;\n",
       "    }\n",
       "\n",
       "    .dataframe tbody tr th {\n",
       "        vertical-align: top;\n",
       "    }\n",
       "\n",
       "    .dataframe thead th {\n",
       "        text-align: right;\n",
       "    }\n",
       "</style>\n",
       "<table border=\"1\" class=\"dataframe\">\n",
       "  <thead>\n",
       "    <tr style=\"text-align: right;\">\n",
       "      <th></th>\n",
       "      <th>the</th>\n",
       "      <th>and</th>\n",
       "      <th>to</th>\n",
       "      <th>a</th>\n",
       "      <th>of</th>\n",
       "      <th>in</th>\n",
       "      <th>be</th>\n",
       "      <th>with</th>\n",
       "      <th>his</th>\n",
       "      <th>all</th>\n",
       "      <th>...</th>\n",
       "      <th>hell</th>\n",
       "      <th>humour</th>\n",
       "      <th>strange</th>\n",
       "      <th>bosom</th>\n",
       "      <th>frame</th>\n",
       "      <th>virgins</th>\n",
       "      <th>naught</th>\n",
       "      <th>lifes</th>\n",
       "      <th>drink</th>\n",
       "      <th>bed</th>\n",
       "    </tr>\n",
       "  </thead>\n",
       "  <tbody>\n",
       "    <tr>\n",
       "      <th>Alexander Pope</th>\n",
       "      <td>0.051625</td>\n",
       "      <td>0.040448</td>\n",
       "      <td>0.022627</td>\n",
       "      <td>0.018045</td>\n",
       "      <td>0.016595</td>\n",
       "      <td>0.016189</td>\n",
       "      <td>0.015618</td>\n",
       "      <td>0.010473</td>\n",
       "      <td>0.009801</td>\n",
       "      <td>0.008733</td>\n",
       "      <td>...</td>\n",
       "      <td>0.000000</td>\n",
       "      <td>0.000000</td>\n",
       "      <td>0.000000</td>\n",
       "      <td>0.000000</td>\n",
       "      <td>0.000000</td>\n",
       "      <td>0.000000</td>\n",
       "      <td>0.000000</td>\n",
       "      <td>0.000000</td>\n",
       "      <td>0.000000</td>\n",
       "      <td>0.000000</td>\n",
       "    </tr>\n",
       "    <tr>\n",
       "      <th>John Dryden</th>\n",
       "      <td>0.039935</td>\n",
       "      <td>0.027459</td>\n",
       "      <td>0.020447</td>\n",
       "      <td>0.012205</td>\n",
       "      <td>0.015005</td>\n",
       "      <td>0.011548</td>\n",
       "      <td>0.018681</td>\n",
       "      <td>0.007880</td>\n",
       "      <td>0.011186</td>\n",
       "      <td>0.005419</td>\n",
       "      <td>...</td>\n",
       "      <td>0.000000</td>\n",
       "      <td>0.000000</td>\n",
       "      <td>0.000000</td>\n",
       "      <td>0.000000</td>\n",
       "      <td>0.000000</td>\n",
       "      <td>0.000000</td>\n",
       "      <td>0.000000</td>\n",
       "      <td>0.000000</td>\n",
       "      <td>0.000000</td>\n",
       "      <td>0.000000</td>\n",
       "    </tr>\n",
       "    <tr>\n",
       "      <th>George Chapman</th>\n",
       "      <td>0.038489</td>\n",
       "      <td>0.039722</td>\n",
       "      <td>0.023062</td>\n",
       "      <td>0.011769</td>\n",
       "      <td>0.021471</td>\n",
       "      <td>0.020596</td>\n",
       "      <td>0.018529</td>\n",
       "      <td>0.013757</td>\n",
       "      <td>0.018648</td>\n",
       "      <td>0.011928</td>\n",
       "      <td>...</td>\n",
       "      <td>0.000437</td>\n",
       "      <td>0.000437</td>\n",
       "      <td>0.000437</td>\n",
       "      <td>0.000437</td>\n",
       "      <td>0.000437</td>\n",
       "      <td>0.000437</td>\n",
       "      <td>0.000437</td>\n",
       "      <td>0.000398</td>\n",
       "      <td>0.000398</td>\n",
       "      <td>0.000398</td>\n",
       "    </tr>\n",
       "  </tbody>\n",
       "</table>\n",
       "<p>3 rows × 513 columns</p>\n",
       "</div>"
      ],
      "text/plain": [
       "                     the       and        to         a        of        in  \\\n",
       "Alexander Pope  0.051625  0.040448  0.022627  0.018045  0.016595  0.016189   \n",
       "John Dryden     0.039935  0.027459  0.020447  0.012205  0.015005  0.011548   \n",
       "George Chapman  0.038489  0.039722  0.023062  0.011769  0.021471  0.020596   \n",
       "\n",
       "                      be      with       his       all  ...      hell  \\\n",
       "Alexander Pope  0.015618  0.010473  0.009801  0.008733  ...  0.000000   \n",
       "John Dryden     0.018681  0.007880  0.011186  0.005419  ...  0.000000   \n",
       "George Chapman  0.018529  0.013757  0.018648  0.011928  ...  0.000437   \n",
       "\n",
       "                  humour   strange     bosom     frame   virgins    naught  \\\n",
       "Alexander Pope  0.000000  0.000000  0.000000  0.000000  0.000000  0.000000   \n",
       "John Dryden     0.000000  0.000000  0.000000  0.000000  0.000000  0.000000   \n",
       "George Chapman  0.000437  0.000437  0.000437  0.000437  0.000437  0.000437   \n",
       "\n",
       "                   lifes     drink       bed  \n",
       "Alexander Pope  0.000000  0.000000  0.000000  \n",
       "John Dryden     0.000000  0.000000  0.000000  \n",
       "George Chapman  0.000398  0.000398  0.000398  \n",
       "\n",
       "[3 rows x 513 columns]"
      ]
     },
     "execution_count": 9,
     "metadata": {},
     "output_type": "execute_result"
    }
   ],
   "source": [
    "model = BOW(350)\n",
    "\n",
    "model.train(training_data) \n",
    "model.profiledf"
   ]
  },
  {
   "cell_type": "code",
   "execution_count": null,
   "metadata": {},
   "outputs": [],
   "source": [
    "len(model.profiledf)"
   ]
  },
  {
   "cell_type": "code",
   "execution_count": 4,
   "metadata": {},
   "outputs": [],
   "source": [
    "testdict = {'Alexander Pope':[r'\\Pope\\Pope_iliad.txt'], \n",
    "            'John Dryden':[r'\\Dryden\\Dryden_iliad_1_p6.txt'],\n",
    "            #'George Chapman':[r'\\Chapman\\Chapman_iliad.txt']\n",
    "           }\n",
    "\n",
    "\n",
    "for auth in testdict:\n",
    "    flist = testdict[auth]\n",
    "    #clist = []\n",
    "    content = ''\n",
    "    for fi in flist:\n",
    "        txtfile = path+fi\n",
    "        with open(txtfile, 'r', encoding='utf-8') as f:\n",
    "            content = f.read()\n",
    "    testdict[auth] = content"
   ]
  },
  {
   "cell_type": "code",
   "execution_count": null,
   "metadata": {},
   "outputs": [],
   "source": [
    "pr = model.profiledf\n",
    "pr.iloc[1]\n",
    "testser = model._createTest(text)"
   ]
  },
  {
   "cell_type": "code",
   "execution_count": null,
   "metadata": {},
   "outputs": [],
   "source": [
    "p1 = pr.iloc[0]\n",
    "p2 = testser\n",
    "model._cosSimilarity(p1, p2)"
   ]
  },
  {
   "cell_type": "code",
   "execution_count": 10,
   "metadata": {},
   "outputs": [
    {
     "data": {
      "text/plain": [
       "[(0.4774726833614673, 'Alexander Pope'),\n",
       " (0.4032789602461022, 'George Chapman'),\n",
       " (0.11924835639243044, 'John Dryden')]"
      ]
     },
     "execution_count": 10,
     "metadata": {},
     "output_type": "execute_result"
    }
   ],
   "source": [
    "text = testdict['Alexander Pope']\n",
    "model.identify(text)"
   ]
  }
 ],
 "metadata": {
  "kernelspec": {
   "display_name": "Python 3",
   "language": "python",
   "name": "python3"
  },
  "language_info": {
   "codemirror_mode": {
    "name": "ipython",
    "version": 3
   },
   "file_extension": ".py",
   "mimetype": "text/x-python",
   "name": "python",
   "nbconvert_exporter": "python",
   "pygments_lexer": "ipython3",
   "version": "3.8.5"
  }
 },
 "nbformat": 4,
 "nbformat_minor": 4
}
